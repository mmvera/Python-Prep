{
 "cells": [
  {
   "attachments": {},
   "cell_type": "markdown",
   "metadata": {},
   "source": [
    "## Clases y Programación Orientada a Objetos"
   ]
  },
  {
   "attachments": {},
   "cell_type": "markdown",
   "metadata": {},
   "source": [
    "1) Crear la clase vehículo que contenga los atributos:<br>\n",
    "Color<br>\n",
    "Si es moto, auto, camioneta ó camión<br>\n",
    "Cilindrada del motor"
   ]
  },
  {
   "cell_type": "code",
   "execution_count": 3,
   "metadata": {},
   "outputs": [
    {
     "name": "stdout",
     "output_type": "stream",
     "text": [
      "rojo\n",
      "moto\n",
      "110\n"
     ]
    }
   ],
   "source": [
    "\n",
    "\n",
    "class Vehiculo():\n",
    "    def __init__(self,color,tipo,cilindrada):\n",
    "        self.color = color\n",
    "        self.tipo = tipo\n",
    "        self.cilindrada = cilindrada\n",
    "\n",
    "v = Vehiculo(\"rojo\",\"moto\",110)\n",
    "\n",
    "print(v.color)\n",
    "print(v.tipo)\n",
    "print(v.cilindrada)\n"
   ]
  },
  {
   "attachments": {},
   "cell_type": "markdown",
   "metadata": {},
   "source": [
    "2) A la clase Vehiculo creada en el punto 1, agregar los siguientes métodos:<br>\n",
    "Acelerar<br>\n",
    "Frenar<br>\n",
    "Doblar<br>"
   ]
  },
  {
   "cell_type": "code",
   "execution_count": 23,
   "metadata": {},
   "outputs": [],
   "source": [
    "class Vehiculo():\n",
    "    def __init__(self,color,tipo,cilindrada):\n",
    "        self.color = color\n",
    "        self.tipo = tipo\n",
    "        self.cilindrada = cilindrada\n",
    "        self.velocidad = 0\n",
    "        self.giro = 0\n",
    "\n",
    "    def Acelerar(self,velocidad):\n",
    "        self.velocidad += velocidad\n",
    "    def doblar(self,giro):\n",
    "        self.giro += giro\n",
    "    def frenar(self,velocidad):\n",
    "        self.velocidad -= velocidad\n",
    "\n",
    "v = Vehiculo(\"rojo\",\"moto\",110)\n",
    "v.Acelerar(40)\n",
    "v.doblar(45)\n",
    "v.frenar(10)\n",
    "\n"
   ]
  },
  {
   "attachments": {},
   "cell_type": "markdown",
   "metadata": {},
   "source": [
    "3) Instanciar 3 objetos de la clase vehículo y ejecutar sus métodos, probar luego el resultado"
   ]
  },
  {
   "cell_type": "code",
   "execution_count": 24,
   "metadata": {},
   "outputs": [
    {
     "name": "stdout",
     "output_type": "stream",
     "text": [
      "90\n",
      "100\n",
      "50\n"
     ]
    }
   ],
   "source": [
    "v1 = Vehiculo(\"rojo\",\"moto\",110)\n",
    "v2= Vehiculo(\"azul\",\"moto\",150)\n",
    "v3 = Vehiculo(\"verde\",\"auto\",2.0)\n",
    "\n",
    "v1.doblar(90)\n",
    "print(v1.giro)\n",
    "v2.Acelerar(100)\n",
    "print(v2.velocidad)\n",
    "v3.Acelerar(100)\n",
    "v3.frenar(50)\n",
    "print(v3.velocidad)\n",
    "\n"
   ]
  },
  {
   "attachments": {},
   "cell_type": "markdown",
   "metadata": {},
   "source": [
    "4) Agregar a la clase Vehiculo, un método que muestre su estado, es decir, a que velocidad se encuentra y su dirección. Y otro método que muestre color, tipo y cilindrada"
   ]
  },
  {
   "cell_type": "code",
   "execution_count": 25,
   "metadata": {},
   "outputs": [
    {
     "name": "stdout",
     "output_type": "stream",
     "text": [
      "90\n",
      "100\n",
      "50\n",
      "velocidad: 50 ,direccion: 0\n",
      "color: verde ,tipo: auto, cilindrada: 2.0\n"
     ]
    }
   ],
   "source": [
    "\n",
    "class Vehiculo():\n",
    "    def __init__(self,color,tipo,cilindrada):\n",
    "        self.color = color\n",
    "        self.tipo = tipo\n",
    "        self.cilindrada = cilindrada\n",
    "        self.velocidad = 0\n",
    "        self.giro = 0\n",
    "\n",
    "    def Acelerar(self,velocidad):\n",
    "        self.velocidad += velocidad\n",
    "    def doblar(self,giro):\n",
    "        self.giro += giro\n",
    "    def frenar(self,velocidad):\n",
    "        self.velocidad -= velocidad\n",
    "    def estado(self):\n",
    "        print(f'velocidad: {self.velocidad} ,direccion: {self.giro}')\n",
    "    def carateristicas(self):\n",
    "        print(f'color: {self.color} ,tipo: {self.tipo}, cilindrada: {self.cilindrada}')\n",
    "\n",
    "v1 = Vehiculo(\"rojo\",\"moto\",110)\n",
    "v2= Vehiculo(\"azul\",\"moto\",150)\n",
    "v3 = Vehiculo(\"verde\",\"auto\",2.0)\n",
    "\n",
    "v1.doblar(90)\n",
    "print(v1.giro)\n",
    "v2.Acelerar(100)\n",
    "print(v2.velocidad)\n",
    "v3.Acelerar(100)\n",
    "v3.frenar(50)\n",
    "print(v3.velocidad)\n",
    "v3.estado()\n",
    "v3.carateristicas()\n"
   ]
  },
  {
   "attachments": {},
   "cell_type": "markdown",
   "metadata": {},
   "source": [
    "5) Crear una clase que permita utilizar las funciones creadas en la práctica del módulo 7<br>\n",
    "Verificar Primo<br>\n",
    "Valor modal<br>\n",
    "Conversión grados<br>\n",
    "Factorial<br>"
   ]
  },
  {
   "cell_type": "code",
   "execution_count": 26,
   "metadata": {},
   "outputs": [],
   "source": [
    "class Funciones():\n",
    "    def __init__(self) -> None:\n",
    "        pass\n",
    "\n",
    "    def es_primo(self,n):\n",
    "        b = True\n",
    "        for i in range(2,n):\n",
    "            if (n % i == 0):\n",
    "                b = False\n",
    "                break\n",
    "        return b\n",
    "    \n",
    "    def mas_repetido(self,lista):\n",
    "        dicc = {i:lista.count(i) for i in lista}\n",
    "        maximo = max(dicc,key=dicc.get)\n",
    "        cant = max(dicc.values())\n",
    "        \n",
    "        return maximo,cant\n",
    "    \n",
    "    def convertidor_grados(self,valor,origen,destino):\n",
    "\n",
    "        if (origen == 'celsius'):\n",
    "            if (destino == 'celsius'):\n",
    "                resultado = valor\n",
    "            elif (destino == 'farenheit'):\n",
    "                resultado = (valor * 9 / 5) + 32\n",
    "            else:\n",
    "                resultado = valor + 273.15\n",
    "\n",
    "        if (origen == 'farenheit'):\n",
    "            if (destino == 'celsius'):\n",
    "                resultado = (valor - 32) * 5 / 9\n",
    "            elif (destino == 'farenheit'):\n",
    "                resultado = valor\n",
    "            else:\n",
    "                resultado = ((valor - 32) * 5 / 9) + 273.15\n",
    "        \n",
    "        if (origen == 'kelvin'):\n",
    "            if (destino == 'celsius'):\n",
    "                resultado = valor - 273.15\n",
    "            elif (destino == 'farenheit'):\n",
    "                resultado = ((valor - 273.15) * 9 / 5) + 32\n",
    "            else:\n",
    "                resultado = valor\n",
    "        return resultado\n",
    "    \n",
    "    def fact(self,n):\n",
    "        res = 1\n",
    "        if(type(n) != int or n < 0):\n",
    "            return (\"el valor ingresado es incorrecto\")\n",
    "        elif (n > 0):\n",
    "            res = n * self.fact(n-1)\n",
    "        \n",
    "        return res"
   ]
  },
  {
   "attachments": {},
   "cell_type": "markdown",
   "metadata": {},
   "source": [
    "6) Probar las funciones incorporadas en la clase del punto 5"
   ]
  },
  {
   "cell_type": "code",
   "execution_count": 30,
   "metadata": {},
   "outputs": [
    {
     "name": "stdout",
     "output_type": "stream",
     "text": [
      "True\n",
      "False\n",
      "(1, 4)\n",
      "308.15\n",
      "120\n"
     ]
    }
   ],
   "source": [
    "fun = Funciones()\n",
    "print(fun.es_primo(7))\n",
    "print(fun.es_primo(8))\n",
    "print(fun.mas_repetido([1,1,1,1,2,3,4,5,6]))\n",
    "print(fun.convertidor_grados(35,\"celsius\",\"kelvin\"))\n",
    "print(fun.fact(5))"
   ]
  },
  {
   "attachments": {},
   "cell_type": "markdown",
   "metadata": {},
   "source": [
    "7) Es necesario que la clase creada en el punto 5 contenga una lista, sobre la cual se apliquen las funciones incorporadas"
   ]
  },
  {
   "cell_type": "code",
   "execution_count": 2,
   "metadata": {},
   "outputs": [],
   "source": [
    "class Funciones():\n",
    "    def __init__(self,lista):\n",
    "        self.lista = lista\n",
    "\n",
    "    def es_primo(self,n):\n",
    "        b = True\n",
    "        for i in range(2,n):\n",
    "            if (n % i == 0):\n",
    "                b = False\n",
    "                break\n",
    "        return b\n",
    "    \n",
    "    def mas_repetido(self,lista):\n",
    "        dicc = {i:lista.count(i) for i in lista}\n",
    "        maximo = max(dicc,key=dicc.get)\n",
    "        cant = max(dicc.values())\n",
    "        \n",
    "        return maximo,cant\n",
    "    \n",
    "    def convertidor_grados(self,valor,origen,destino):\n",
    "\n",
    "        if (origen == 'celsius'):\n",
    "            if (destino == 'celsius'):\n",
    "                resultado = valor\n",
    "            elif (destino == 'farenheit'):\n",
    "                resultado = (valor * 9 / 5) + 32\n",
    "            else:\n",
    "                resultado = valor + 273.15\n",
    "\n",
    "        if (origen == 'farenheit'):\n",
    "            if (destino == 'celsius'):\n",
    "                resultado = (valor - 32) * 5 / 9\n",
    "            elif (destino == 'farenheit'):\n",
    "                resultado = valor\n",
    "            else:\n",
    "                resultado = ((valor - 32) * 5 / 9) + 273.15\n",
    "        \n",
    "        if (origen == 'kelvin'):\n",
    "            if (destino == 'celsius'):\n",
    "                resultado = valor - 273.15\n",
    "            elif (destino == 'farenheit'):\n",
    "                resultado = ((valor - 273.15) * 9 / 5) + 32\n",
    "            else:\n",
    "                resultado = valor\n",
    "        return resultado\n",
    "    \n",
    "    def fact(self,n):\n",
    "        res = 1\n",
    "        if(type(n) != int or n < 0):\n",
    "            return (\"el valor ingresado es incorrecto\")\n",
    "        elif (n > 0):\n",
    "            res = n * self.fact(n-1)\n",
    "        \n",
    "        return res\n",
    "    \n",
    "    def es_primo_list(self):\n",
    "        for i, elem in enumerate(self.lista):\n",
    "            if(self.es_primo(elem)):\n",
    "                print(f'el numero {elem} de la posicion {i} es primo')\n",
    "            else:\n",
    "                print(f'el numero {elem} de la posicion {i} no es primo')\n",
    "\n",
    "    def convertidor_grados_list(self,origen,destino):\n",
    "        for elem in self.lista :\n",
    "            print(f'la conversion de {elem} grados {origen} en {destino} es {self.convertidor_grados(elem)}')\n",
    "    \n",
    "    def fact_list(self):\n",
    "        for elem in self.lista:\n",
    "            print(f'el factorial de {elem} es: {self.fact(elem)}')\n",
    "        "
   ]
  },
  {
   "attachments": {},
   "cell_type": "markdown",
   "metadata": {},
   "source": [
    "8) Crear un archivo .py aparte y ubicar allí la clase generada en el punto anterior. Luego realizar la importación del módulo y probar alguna de sus funciones"
   ]
  },
  {
   "cell_type": "code",
   "execution_count": 7,
   "metadata": {},
   "outputs": [
    {
     "name": "stdout",
     "output_type": "stream",
     "text": [
      "el numero 1 de la posicion 0 es primo\n",
      "el numero 2 de la posicion 1 es primo\n",
      "el numero 3 de la posicion 2 es primo\n",
      "el numero 5 de la posicion 3 es primo\n",
      "el numero 6 de la posicion 4 no es primo\n",
      "el numero 7 de la posicion 5 es primo\n"
     ]
    }
   ],
   "source": [
    "from funciones import *\n",
    "\n",
    "l = Funciones([1,2,3,5,6,7])\n",
    "\n",
    "l.es_primo_list()\n"
   ]
  }
 ],
 "metadata": {
  "interpreter": {
   "hash": "c85384e4cb51c8b72350f3a8712cc8351fdc3955e32a27f9b60c6242ab125f01"
  },
  "kernelspec": {
   "display_name": "Python 3 (ipykernel)",
   "language": "python",
   "name": "python3"
  },
  "language_info": {
   "codemirror_mode": {
    "name": "ipython",
    "version": 3
   },
   "file_extension": ".py",
   "mimetype": "text/x-python",
   "name": "python",
   "nbconvert_exporter": "python",
   "pygments_lexer": "ipython3",
   "version": "3.10.12"
  }
 },
 "nbformat": 4,
 "nbformat_minor": 4
}
