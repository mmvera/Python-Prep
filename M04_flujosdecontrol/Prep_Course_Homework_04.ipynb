{
 "cells": [
  {
   "attachments": {},
   "cell_type": "markdown",
   "metadata": {},
   "source": [
    "## Flujos de Control"
   ]
  },
  {
   "attachments": {},
   "cell_type": "markdown",
   "metadata": {},
   "source": [
    "1) Crear una variable que contenga un elemento del conjunto de números enteros y luego imprimir por pantalla si es mayor o menor a cero"
   ]
  },
  {
   "cell_type": "code",
   "execution_count": 7,
   "metadata": {},
   "outputs": [
    {
     "name": "stdout",
     "output_type": "stream",
     "text": [
      "es mayor  cero\n"
     ]
    }
   ],
   "source": [
    "a=2\n",
    "if a > 0 :\n",
    "    print(\"es mayor  cero\")\n",
    "elif a < 0:\n",
    "    print(\"es menor a cero\")\n",
    "else:\n",
    "    print(\"es igual a cero\")"
   ]
  },
  {
   "attachments": {},
   "cell_type": "markdown",
   "metadata": {},
   "source": [
    "2) Crear dos variables y un condicional que informe si son del mismo tipo de dato"
   ]
  },
  {
   "cell_type": "code",
   "execution_count": 6,
   "metadata": {},
   "outputs": [
    {
     "name": "stdout",
     "output_type": "stream",
     "text": [
      "son variables de distinto tipo da datos\n"
     ]
    }
   ],
   "source": [
    "b=1\n",
    "c='string2'\n",
    "if (type(b)==type(c)):\n",
    "    print(\"son variables del mismo tipo de dato\")\n",
    "else:\n",
    "    print(\"son variables de distinto tipo de datos\")"
   ]
  },
  {
   "attachments": {},
   "cell_type": "markdown",
   "metadata": {},
   "source": [
    "3) Para los valores enteros del 1 al 20, imprimir por pantalla si es par o impar"
   ]
  },
  {
   "cell_type": "code",
   "execution_count": 10,
   "metadata": {},
   "outputs": [
    {
     "name": "stdout",
     "output_type": "stream",
     "text": [
      "el numero 1 es impar\n",
      "el numero 2 es par\n",
      "el numero 3 es impar\n",
      "el numero 4 es par\n",
      "el numero 5 es impar\n",
      "el numero 6 es par\n",
      "el numero 7 es impar\n",
      "el numero 8 es par\n",
      "el numero 9 es impar\n",
      "el numero 10 es par\n",
      "el numero 11 es impar\n",
      "el numero 12 es par\n",
      "el numero 13 es impar\n",
      "el numero 14 es par\n",
      "el numero 15 es impar\n",
      "el numero 16 es par\n",
      "el numero 17 es impar\n",
      "el numero 18 es par\n",
      "el numero 19 es impar\n"
     ]
    }
   ],
   "source": [
    "\n",
    "for n in range(1,20):\n",
    "    if(n % 2 == 0):\n",
    "        print(f\"el numero {n} es par\")\n",
    "    else:\n",
    "        print(f\"el numero {n} es impar\")"
   ]
  },
  {
   "attachments": {},
   "cell_type": "markdown",
   "metadata": {},
   "source": [
    "4) En un ciclo for mostrar para los valores entre 0 y 5 el resultado de elevarlo a la potencia igual a 3"
   ]
  },
  {
   "cell_type": "code",
   "execution_count": 14,
   "metadata": {},
   "outputs": [
    {
     "name": "stdout",
     "output_type": "stream",
     "text": [
      "el numero 0,elevado al cubo:0\n",
      "el numero 1,elevado al cubo:1\n",
      "el numero 2,elevado al cubo:8\n",
      "el numero 3,elevado al cubo:27\n",
      "el numero 4,elevado al cubo:64\n"
     ]
    }
   ],
   "source": [
    "for n in range(0,5):\n",
    "    print(f\"el numero {n},elevado al cubo:{n**3}\")"
   ]
  },
  {
   "attachments": {},
   "cell_type": "markdown",
   "metadata": {},
   "source": [
    "5) Crear una variable que contenga un número entero y realizar un ciclo for la misma cantidad de ciclos"
   ]
  },
  {
   "cell_type": "code",
   "execution_count": 15,
   "metadata": {},
   "outputs": [
    {
     "name": "stdout",
     "output_type": "stream",
     "text": [
      "0\n",
      "1\n",
      "2\n",
      "3\n",
      "4\n"
     ]
    }
   ],
   "source": [
    "a = 5\n",
    "for i in range(0,a):\n",
    "    print(i)"
   ]
  },
  {
   "attachments": {},
   "cell_type": "markdown",
   "metadata": {},
   "source": [
    "6) Utilizar un ciclo while para realizar el factorial de un número guardado en una variable, sólo si la variable contiene un número entero mayor a 0"
   ]
  },
  {
   "cell_type": "code",
   "execution_count": 16,
   "metadata": {},
   "outputs": [
    {
     "name": "stdout",
     "output_type": "stream",
     "text": [
      "El factorial es 120\n"
     ]
    }
   ],
   "source": [
    "a = 5\n",
    "if (type(a) == int):\n",
    "    if (a > 0):\n",
    "        factorial = a\n",
    "        while (a > 1):\n",
    "            a = a - 1\n",
    "            factorial = factorial * a\n",
    "        print(f'El factorial es {factorial}')\n",
    "    else:\n",
    "        print('el numero no es mayor a cero')\n",
    "else:\n",
    "    print('el numero no es un entero')"
   ]
  },
  {
   "attachments": {},
   "cell_type": "markdown",
   "metadata": {},
   "source": [
    "7) Crear un ciclo for dentro de un ciclo while"
   ]
  },
  {
   "cell_type": "code",
   "execution_count": null,
   "metadata": {},
   "outputs": [],
   "source": [
    "a = 4\n",
    "while(a > 0):\n",
    "    for i in range(0,a):\n",
    "        print(\"hola\")\n",
    "    a-=1"
   ]
  },
  {
   "attachments": {},
   "cell_type": "markdown",
   "metadata": {},
   "source": [
    "8) Crear un ciclo while dentro de un ciclo for"
   ]
  },
  {
   "cell_type": "code",
   "execution_count": 23,
   "metadata": {},
   "outputs": [
    {
     "name": "stdout",
     "output_type": "stream",
     "text": [
      "hola\n",
      "hola\n",
      "hola\n",
      "hola\n",
      "hola\n",
      "hola\n",
      "hola\n",
      "hola\n",
      "hola\n",
      "hola\n",
      "hola\n",
      "hola\n",
      "hola\n",
      "hola\n",
      "hola\n",
      "hola\n"
     ]
    }
   ],
   "source": [
    "a=4\n",
    "for i in range(0,a):\n",
    "    n=a\n",
    "    while(n>0):\n",
    "        print(\"hola\")\n",
    "        n-=1\n"
   ]
  },
  {
   "attachments": {},
   "cell_type": "markdown",
   "metadata": {},
   "source": [
    "9) Imprimir los números primos existentes entre 0 y 30"
   ]
  },
  {
   "cell_type": "code",
   "execution_count": 28,
   "metadata": {},
   "outputs": [
    {
     "name": "stdout",
     "output_type": "stream",
     "text": [
      "0\n",
      "1\n",
      "2\n",
      "3\n",
      "5\n",
      "7\n",
      "11\n",
      "13\n",
      "17\n",
      "19\n",
      "23\n",
      "29\n"
     ]
    }
   ],
   "source": [
    "lim=30\n",
    "n = 0\n",
    "while (n < lim):\n",
    "    es_primo = True\n",
    "    for div in range(2, n):\n",
    "        if (n % div == 0):\n",
    "            es_primo = False\n",
    "    if (es_primo):\n",
    "        print(n)\n",
    "    n += 1"
   ]
  },
  {
   "attachments": {},
   "cell_type": "markdown",
   "metadata": {},
   "source": [
    "10) ¿Se puede mejorar el proceso del punto 9? Utilizar las sentencias break y/ó continue para tal fin"
   ]
  },
  {
   "cell_type": "code",
   "execution_count": 29,
   "metadata": {},
   "outputs": [
    {
     "name": "stdout",
     "output_type": "stream",
     "text": [
      "0\n",
      "1\n",
      "2\n",
      "3\n",
      "5\n",
      "7\n",
      "11\n",
      "13\n",
      "17\n",
      "19\n",
      "23\n",
      "29\n"
     ]
    }
   ],
   "source": [
    "lim=30\n",
    "n = 0\n",
    "while (n < lim):\n",
    "    es_primo = True\n",
    "    for div in range(2, n):\n",
    "        if (n % div == 0):\n",
    "            es_primo = False\n",
    "            break\n",
    "    if (es_primo):\n",
    "        print(n)\n",
    "    n += 1"
   ]
  },
  {
   "attachments": {},
   "cell_type": "markdown",
   "metadata": {},
   "source": [
    "11) En los puntos 9 y 10, se diseño un código que encuentra números primos y además se lo optimizó. ¿Es posible saber en qué medida se optimizó?"
   ]
  },
  {
   "cell_type": "code",
   "execution_count": 30,
   "metadata": {},
   "outputs": [
    {
     "name": "stdout",
     "output_type": "stream",
     "text": [
      "0\n",
      "1\n",
      "2\n",
      "3\n",
      "5\n",
      "7\n",
      "11\n",
      "13\n",
      "17\n",
      "19\n",
      "23\n",
      "29\n",
      "262\n"
     ]
    }
   ],
   "source": [
    "#con el break disminuimos la ejecucion de ciclos\n",
    "lim=30\n",
    "n = 0\n",
    "ciclos=0\n",
    "while (n < lim):\n",
    "    es_primo = True\n",
    "    for div in range(2, n):\n",
    "        if (n % div == 0):\n",
    "            ciclos = ciclos+(n-div) \n",
    "            es_primo = False\n",
    "            break\n",
    "    if (es_primo):\n",
    "        print(n)\n",
    "    n += 1\n",
    "print(ciclos)"
   ]
  },
  {
   "attachments": {},
   "cell_type": "markdown",
   "metadata": {},
   "source": [
    "12) Aplicando continue, armar un ciclo while que solo imprima los valores divisibles por 12, dentro del rango de números de 100 a 300"
   ]
  },
  {
   "cell_type": "code",
   "execution_count": 33,
   "metadata": {},
   "outputs": [
    {
     "name": "stdout",
     "output_type": "stream",
     "text": [
      "el numero 108 es divisible por 12\n",
      "el numero 120 es divisible por 12\n",
      "el numero 132 es divisible por 12\n",
      "el numero 144 es divisible por 12\n",
      "el numero 156 es divisible por 12\n",
      "el numero 168 es divisible por 12\n",
      "el numero 180 es divisible por 12\n",
      "el numero 192 es divisible por 12\n",
      "el numero 204 es divisible por 12\n",
      "el numero 216 es divisible por 12\n",
      "el numero 228 es divisible por 12\n",
      "el numero 240 es divisible por 12\n",
      "el numero 252 es divisible por 12\n",
      "el numero 264 es divisible por 12\n",
      "el numero 276 es divisible por 12\n",
      "el numero 288 es divisible por 12\n",
      "el numero 300 es divisible por 12\n"
     ]
    }
   ],
   "source": [
    "n=100\n",
    "while(n<=300):\n",
    "    n+=1\n",
    "    if(n % 12 != 0):\n",
    "        continue\n",
    "    else:\n",
    "        print(f\"el numero {n} es divisible por 12\")\n",
    "    "
   ]
  },
  {
   "attachments": {},
   "cell_type": "markdown",
   "metadata": {},
   "source": [
    "13) Utilizar la función **input()** que permite hacer ingresos por teclado, para encontrar números primos y dar la opción al usario de buscar el siguiente"
   ]
  },
  {
   "cell_type": "code",
   "execution_count": 1,
   "metadata": {},
   "outputs": [
    {
     "name": "stdout",
     "output_type": "stream",
     "text": [
      "1\n",
      "si desea encontrar el siguiente numero primo presione 1, caso contrario 0\n"
     ]
    }
   ],
   "source": [
    "\n",
    "seguir=True\n",
    "n = 1\n",
    "while (seguir):\n",
    "    es_primo = True\n",
    "    for div in range(2, n):\n",
    "        if (n % div == 0):\n",
    "            es_primo = False\n",
    "            break\n",
    "    if (es_primo):\n",
    "        print(n)\n",
    "        print(\"si desea encontrar el siguiente numero primo presione 1, caso contrario 0\")\n",
    "        if(input() == 0):\n",
    "            break\n",
    "\n",
    "    n += 1"
   ]
  },
  {
   "attachments": {},
   "cell_type": "markdown",
   "metadata": {},
   "source": [
    "14) Crear un ciclo while que encuentre dentro del rango de 100 a 300 el primer número divisible por 3 y además múltiplo de 6"
   ]
  },
  {
   "cell_type": "code",
   "execution_count": 2,
   "metadata": {},
   "outputs": [
    {
     "name": "stdout",
     "output_type": "stream",
     "text": [
      "el numero es: 102\n"
     ]
    }
   ],
   "source": [
    "a=100\n",
    "while(a<=300):\n",
    "    if a % 3 == 0 & a % 6 == 0:\n",
    "        print(f\"el numero es: {a}\")\n",
    "        break\n",
    "    a += 1"
   ]
  }
 ],
 "metadata": {
  "interpreter": {
   "hash": "c85384e4cb51c8b72350f3a8712cc8351fdc3955e32a27f9b60c6242ab125f01"
  },
  "kernelspec": {
   "display_name": "Python 3 (ipykernel)",
   "language": "python",
   "name": "python3"
  },
  "language_info": {
   "codemirror_mode": {
    "name": "ipython",
    "version": 3
   },
   "file_extension": ".py",
   "mimetype": "text/x-python",
   "name": "python",
   "nbconvert_exporter": "python",
   "pygments_lexer": "ipython3",
   "version": "3.10.6"
  }
 },
 "nbformat": 4,
 "nbformat_minor": 4
}
