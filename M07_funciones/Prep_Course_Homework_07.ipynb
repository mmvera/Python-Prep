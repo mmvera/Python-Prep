{
 "cells": [
  {
   "attachments": {},
   "cell_type": "markdown",
   "metadata": {},
   "source": [
    "## Funciones"
   ]
  },
  {
   "attachments": {},
   "cell_type": "markdown",
   "metadata": {},
   "source": [
    "1) Crear una función que reciba un número como parámetro y devuelva True si es primo y False si no lo es"
   ]
  },
  {
   "cell_type": "code",
   "execution_count": 3,
   "metadata": {},
   "outputs": [
    {
     "name": "stdout",
     "output_type": "stream",
     "text": [
      "False\n"
     ]
    }
   ],
   "source": [
    "def es_primo(n):\n",
    "    b = True\n",
    "    for i in range(2,n):\n",
    "        if (n % i == 0):\n",
    "            b = False\n",
    "            break\n",
    "    return b\n",
    "\n",
    "print(es_primo(10))"
   ]
  },
  {
   "attachments": {},
   "cell_type": "markdown",
   "metadata": {},
   "source": [
    "2) Utilizando la función del punto 1, realizar otra función que reciba de parámetro una lista de números y devuelva sólo aquellos que son primos en otra lista"
   ]
  },
  {
   "cell_type": "code",
   "execution_count": 4,
   "metadata": {},
   "outputs": [
    {
     "name": "stdout",
     "output_type": "stream",
     "text": [
      "[1, 2, 3, 5, 7, 11, 13, 17, 19]\n"
     ]
    }
   ],
   "source": [
    "def extraer_primos(lista):\n",
    "    l = []\n",
    "    for elem in lista:\n",
    "        if(es_primo(elem)):\n",
    "            l.append(elem)\n",
    "    return l\n",
    "\n",
    "lis= [1,2,3,4,5,6,7,8,9,10,11,12,13,14,15,16,17,18,19,20]\n",
    "print(extraer_primos(lis))"
   ]
  },
  {
   "attachments": {},
   "cell_type": "markdown",
   "metadata": {},
   "source": [
    "3) Crear una función que al recibir una lista de números, devuelva el que más se repite y cuántas veces lo hace. Si hay más de un \"más repetido\", que devuelva cualquiera"
   ]
  },
  {
   "cell_type": "code",
   "execution_count": 6,
   "metadata": {},
   "outputs": [
    {
     "name": "stdout",
     "output_type": "stream",
     "text": [
      "(5, 3)\n"
     ]
    }
   ],
   "source": [
    "def mas_repetido(lista):\n",
    "   dicc = {i:lista.count(i) for i in lista}\n",
    "   maximo = max(dicc,key=dicc.get)\n",
    "   cant = max(dicc.values())\n",
    "   \n",
    "\n",
    "   return maximo,cant\n",
    "\n",
    "lis = [1,1,5,6,8,10,22,5,6,4,11,9,5]\n",
    "print(mas_repetido(lis))\n"
   ]
  },
  {
   "attachments": {},
   "cell_type": "markdown",
   "metadata": {},
   "source": [
    "4) Crear una función que convierta entre grados Celsius, Farenheit y Kelvin<br>\n",
    "Fórmula 1\t: (°C × 9/5) + 32 = °F<br>\n",
    "Fórmula 2\t: °C + 273.15 = °K<br>\n",
    "Debe recibir 3 parámetros: el valor, la medida de orígen y la medida de destino\n"
   ]
  },
  {
   "cell_type": "code",
   "execution_count": 9,
   "metadata": {},
   "outputs": [],
   "source": [
    "def convertidor_grados(valor,origen,destino):\n",
    "\n",
    "    if (origen == 'celsius'):\n",
    "        if (destino == 'celsius'):\n",
    "            resultado = valor\n",
    "        elif (destino == 'farenheit'):\n",
    "            resultado = (valor * 9 / 5) + 32\n",
    "        else:\n",
    "            resultado = valor + 273.15\n",
    "\n",
    "    if (origen == 'farenheit'):\n",
    "        if (destino == 'celsius'):\n",
    "            resultado = (valor - 32) * 5 / 9\n",
    "        elif (destino == 'farenheit'):\n",
    "            resultado = valor\n",
    "        else:\n",
    "            resultado = ((valor - 32) * 5 / 9) + 273.15\n",
    "    \n",
    "    if (origen == 'kelvin'):\n",
    "        if (destino == 'celsius'):\n",
    "            resultado = valor - 273.15\n",
    "        elif (destino == 'farenheit'):\n",
    "            resultado = ((valor - 273.15) * 9 / 5) + 32\n",
    "        else:\n",
    "            resultado = valor\n",
    "    return resultado"
   ]
  },
  {
   "attachments": {},
   "cell_type": "markdown",
   "metadata": {},
   "source": [
    "5) Iterando una lista con los tres valores posibles de temperatura que recibe la función del punto 5, hacer un print para cada combinación de los mismos:"
   ]
  },
  {
   "cell_type": "code",
   "execution_count": 10,
   "metadata": {},
   "outputs": [
    {
     "name": "stdout",
     "output_type": "stream",
     "text": [
      "celsius celsius\n",
      "celsius kelvin\n",
      "celsius farenheit\n",
      "kelvin celsius\n",
      "kelvin kelvin\n",
      "kelvin farenheit\n",
      "farenheit celsius\n",
      "farenheit kelvin\n",
      "farenheit farenheit\n"
     ]
    }
   ],
   "source": [
    "temp = ['celsius','kelvin','farenheit']\n",
    "\n",
    "for i in range(0,3) :\n",
    "    for j in range(0,3):\n",
    "        print(temp[i],temp[j])"
   ]
  },
  {
   "attachments": {},
   "cell_type": "markdown",
   "metadata": {},
   "source": [
    "6) Armar una función que devuelva el factorial de un número. Tener en cuenta que el usuario puede equivocarse y enviar de parámetro un número no entero o negativo"
   ]
  },
  {
   "cell_type": "code",
   "execution_count": 20,
   "metadata": {},
   "outputs": [
    {
     "name": "stdout",
     "output_type": "stream",
     "text": [
      "el valor ingresado es incorrecto\n",
      "6\n",
      "el valor ingresado es incorrecto\n"
     ]
    }
   ],
   "source": [
    "\n",
    "def fact(n):\n",
    "    res = 1\n",
    "    if(type(n) != int or n < 0):\n",
    "        return (\"el valor ingresado es incorrecto\")\n",
    "    elif (n > 0):\n",
    "        res = n * fact(n-1)\n",
    "    \n",
    "    return res\n",
    "\n",
    "print(fact(1.3))\n",
    "print(fact(3))\n",
    "print(fact('l'))"
   ]
  }
 ],
 "metadata": {
  "interpreter": {
   "hash": "c85384e4cb51c8b72350f3a8712cc8351fdc3955e32a27f9b60c6242ab125f01"
  },
  "kernelspec": {
   "display_name": "Python 3 (ipykernel)",
   "language": "python",
   "name": "python3"
  },
  "language_info": {
   "codemirror_mode": {
    "name": "ipython",
    "version": 3
   },
   "file_extension": ".py",
   "mimetype": "text/x-python",
   "name": "python",
   "nbconvert_exporter": "python",
   "pygments_lexer": "ipython3",
   "version": "3.10.12"
  }
 },
 "nbformat": 4,
 "nbformat_minor": 4
}
